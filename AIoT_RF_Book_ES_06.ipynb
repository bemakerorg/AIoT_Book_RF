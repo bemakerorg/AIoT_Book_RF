{
  "cells": [
    {
      "cell_type": "markdown",
      "metadata": {
        "id": "view-in-github",
        "colab_type": "text"
      },
      "source": [
        "<a href=\"https://colab.research.google.com/github/bemakerorg/AIoT_Book_RF/blob/main/AIoT_RF_Book_ES_06.ipynb\" target=\"_parent\"><img src=\"https://colab.research.google.com/assets/colab-badge.svg\" alt=\"Open In Colab\"/></a>"
      ]
    },
    {
      "cell_type": "code",
      "execution_count": 1,
      "metadata": {
        "id": "QCm3x_4F8bvg"
      },
      "outputs": [],
      "source": [
        "# Esempio di realizzazione di un modello di rete con un solo neurone\n",
        "# Step 1: Importare le librerie\n",
        "import tensorflow as tf\n",
        "import numpy as np\n",
        "from tensorflow import keras"
      ]
    },
    {
      "cell_type": "code",
      "source": [
        "# Step 2a: Assegniamo alla variabile my_layer1 le caratteristiche del primo layer\n",
        "my_layer1 = keras.layers.Dense(units=2, input_shape=[1])"
      ],
      "metadata": {
        "id": "in_SoKrUVzVV"
      },
      "execution_count": 2,
      "outputs": []
    },
    {
      "cell_type": "code",
      "source": [
        "# Step 2b: Assegniamo alla variabile my_layer2 le caratteristiche dell'ultimo layer\n",
        "my_layer2 = keras.layers.Dense(units=1)"
      ],
      "metadata": {
        "id": "CmzPCFLr7fVq"
      },
      "execution_count": 3,
      "outputs": []
    },
    {
      "cell_type": "code",
      "source": [
        "# Step 2c: Definire il modello\n",
        "model = tf.keras.Sequential([my_layer1, my_layer2])"
      ],
      "metadata": {
        "id": "LZGodbS5V2m1"
      },
      "execution_count": 4,
      "outputs": []
    },
    {
      "cell_type": "code",
      "execution_count": 5,
      "metadata": {
        "id": "CLqOZPfC8gfb"
      },
      "outputs": [],
      "source": [
        "# Step 3: Utilizzare la funzione di ottimizzazione 'sgd = stochastic gradient descent'\n",
        "# e per l'errore la funzione di perdita 'mean squared error'\n",
        "model.compile(optimizer='sgd', loss='mean_squared_error')"
      ]
    },
    {
      "cell_type": "code",
      "source": [
        "# Step 4: Definiamo il set di dati per l'apprendimento (xs indica gli inputs and ys gli outputs)\n",
        "xs = np.array([4.0, 2.0, -1.0, 1.0, 0.0, 3.0], dtype=float)\n",
        "ys = np.array([7.0, 3.0, -3.0, 1.0, -1.0, 5.0], dtype=float)"
      ],
      "metadata": {
        "id": "Z2TP9lVFXIaN"
      },
      "execution_count": 6,
      "outputs": []
    },
    {
      "cell_type": "code",
      "source": [
        "# Step 5: Addestriamo il nostro modello con 500 epoche\n",
        "model.fit(xs, ys, epochs=500)"
      ],
      "metadata": {
        "id": "h6LdTsWaXOtD"
      },
      "execution_count": null,
      "outputs": []
    },
    {
      "cell_type": "code",
      "execution_count": null,
      "metadata": {
        "id": "qtu5rJBA8o9M"
      },
      "outputs": [],
      "source": [
        "#Facciamogli prevedere il valore della y quando la x=10.0\n",
        "#(dovrebbe dare come valore di y circa uguale a 19, infatti y = 2 * 10 - 1 = 19)\n",
        "print(model.predict([10.0]))"
      ]
    },
    {
      "cell_type": "code",
      "source": [
        "#Stampiamo i valori dei parametri dei neuroni (w e b) dei singoli strati determinati dall'apprendimento\n",
        "print(my_layer1.get_weights())\n",
        "print(my_layer2.get_weights())"
      ],
      "metadata": {
        "id": "_--2ILaFTyQn"
      },
      "execution_count": null,
      "outputs": []
    }
  ],
  "metadata": {
    "colab": {
      "provenance": [],
      "include_colab_link": true
    },
    "kernelspec": {
      "display_name": "Python 3",
      "language": "python",
      "name": "python3"
    },
    "language_info": {
      "codemirror_mode": {
        "name": "ipython",
        "version": 3
      },
      "file_extension": ".py",
      "mimetype": "text/x-python",
      "name": "python",
      "nbconvert_exporter": "python",
      "pygments_lexer": "ipython3",
      "version": "3.6.9"
    }
  },
  "nbformat": 4,
  "nbformat_minor": 0
}