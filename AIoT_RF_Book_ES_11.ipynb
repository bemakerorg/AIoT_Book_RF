{
  "cells": [
    {
      "cell_type": "markdown",
      "metadata": {
        "id": "view-in-github",
        "colab_type": "text"
      },
      "source": [
        "<a href=\"https://colab.research.google.com/github/bemakerorg/AIoT_Book_RF/blob/main/AIoT_RF_Book_ES_11.ipynb\" target=\"_parent\"><img src=\"https://colab.research.google.com/assets/colab-badge.svg\" alt=\"Open In Colab\"/></a>"
      ]
    },
    {
      "cell_type": "markdown",
      "metadata": {
        "id": "KTS2sc5nQSCJ"
      },
      "source": [
        "# **ESERCIZIO 11**\n",
        "Iniziamo importando alcune librerie Python."
      ]
    },
    {
      "cell_type": "code",
      "source": [
        "# requests: Libreria per effettuare richieste HTTP\n",
        "import requests\n",
        "# Dalla Libreria Pillow per l’elaborazione immagini, viene caricato il modulo image\n",
        "from PIL import Image\n",
        "# BytesIO: per gestire l’immagine in binario\n",
        "from io import BytesIO\n",
        "\n",
        "import matplotlib.pyplot as plt\n",
        "import numpy as np"
      ],
      "metadata": {
        "id": "L9MtPGPcvAtn"
      },
      "execution_count": null,
      "outputs": []
    },
    {
      "cell_type": "code",
      "source": [
        "# URL dell'immagine su Pixabay\n",
        "image_url = 'https://cdn.pixabay.com/photo/2016/12/29/15/06/tower-bridge-1938684_960_720.jpg'\n",
        "\n",
        "# Scaricare l'immagine usando requests\n",
        "response = requests.get(image_url)\n",
        "if response.status_code == 200:\n",
        "    image = Image.open(BytesIO(response.content))\n",
        "\n",
        "    # Visualizzare l'immagine originale\n",
        "    plt.imshow(image)\n",
        "    plt.axis('off')\n",
        "    plt.show()\n",
        "else: # gestisce l'eventuale errore della richiesta HTTP\n",
        "    print(\"Errore nel download dell'immagine:\", response.status_code)"
      ],
      "metadata": {
        "id": "pIINp_y2vPR5"
      },
      "execution_count": null,
      "outputs": []
    },
    {
      "cell_type": "code",
      "source": [
        "# Ridimensionare l'immagine a 512x512 pixel\n",
        "resized_image = image.resize((512, 512))\n",
        "\n",
        "# Convertire l'immagine ridimensionata in scala di grigi (bianco e nero)\n",
        "gray_resized_image = resized_image.convert('L')\n",
        "\n",
        "# Convertire l'immagine in un array NumPy\n",
        "gray_image_array = np.array(gray_resized_image)"
      ],
      "metadata": {
        "id": "cdC27pndyvrg"
      },
      "execution_count": null,
      "outputs": []
    },
    {
      "cell_type": "code",
      "source": [
        "# Visualizzare l'immagine ridimensionata e in scala di grigi\n",
        "plt.figure(figsize=(48, 24)) #dimensione finestra immagine\n",
        "\n",
        "# Immagine ridimensionata\n",
        "plt.subplot(1, 2, 1)\n",
        "plt.imshow(resized_image)\n",
        "plt.title('Immagine ridimensionata (512x512)', fontsize=40)\n",
        "plt.axis('off')\n",
        "\n",
        "# Immagine ridimensionata in scala di grigi\n",
        "plt.subplot(1, 2, 2)\n",
        "plt.imshow(gray_resized_image, cmap='gray')\n",
        "plt.title('Immagine in bianco e nero (512x512)', fontsize=40)\n",
        "plt.axis('off')"
      ],
      "metadata": {
        "id": "RxNtsXny4N79"
      },
      "execution_count": null,
      "outputs": []
    },
    {
      "cell_type": "code",
      "source": [
        "# Funzione per applicare il filtro di Sobel a un'immagine\n",
        "def apply_filter(image_array, filter):\n",
        "    size_x, size_y = image_array.shape\n",
        "    transformed_image = np.copy(image_array)\n",
        "    weight = 1\n",
        "\n",
        "    for x in range(1, size_x - 1):\n",
        "        for y in range(1, size_y - 1):\n",
        "            convolution = 0.0\n",
        "            convolution += (image_array[x - 1, y - 1] * filter[0, 0])\n",
        "            convolution += (image_array[x, y - 1] * filter[1, 0])\n",
        "            convolution += (image_array[x + 1, y - 1] * filter[2, 0])\n",
        "            convolution += (image_array[x - 1, y] * filter[0, 1])\n",
        "            convolution += (image_array[x, y] * filter[1, 1])\n",
        "            convolution += (image_array[x + 1, y] * filter[2, 1])\n",
        "            convolution += (image_array[x - 1, y + 1] * filter[0, 2])\n",
        "            convolution += (image_array[x, y + 1] * filter[1, 2])\n",
        "            convolution += (image_array[x + 1, y + 1] * filter[2, 2])\n",
        "            convolution *= weight\n",
        "            if convolution < 0:\n",
        "                convolution = 0\n",
        "            if convolution > 255:\n",
        "                convolution = 255\n",
        "            transformed_image[x, y] = convolution\n",
        "\n",
        "    return transformed_image"
      ],
      "metadata": {
        "id": "DiPDwQEM0C5x"
      },
      "execution_count": null,
      "outputs": []
    },
    {
      "cell_type": "code",
      "source": [
        "# Definizione Filtri di Sobel [3x3]\n",
        "horizontal_filter = np.array([[-1, -2, -1], [0, 0, 0], [1, 2, 1]])\n",
        "vertical_filter = np.array([[-1, 0, 1], [-2, 0, 2], [-1, 0, 1]])\n",
        "\n",
        "# Applica i filtri\n",
        "vertical_edges = apply_filter(gray_image_array, vertical_filter)\n",
        "horizontal_edges = apply_filter(gray_image_array, horizontal_filter)"
      ],
      "metadata": {
        "id": "3_ggKeCT27ww"
      },
      "execution_count": null,
      "outputs": []
    },
    {
      "cell_type": "code",
      "source": [
        "plt.figure(figsize=(48, 24)) #dimensione finestra immagine\n",
        "\n",
        "# Immagine con filtro per linee verticali\n",
        "plt.subplot(1, 2, 2)\n",
        "plt.imshow(vertical_edges, cmap='gray')\n",
        "plt.title('Immagine con filtro linee verticali', fontsize=40)\n",
        "plt.axis('off')\n",
        "\n",
        "# Immagine con filtro per linee orizzontali\n",
        "plt.subplot(1, 2, 1)\n",
        "plt.imshow(horizontal_edges, cmap='gray')\n",
        "plt.title('Immagine con filtro linee orizzontali', fontsize=40)\n",
        "plt.axis('off')"
      ],
      "metadata": {
        "id": "Y6Z8AbnD4Awc"
      },
      "execution_count": null,
      "outputs": []
    },
    {
      "cell_type": "code",
      "source": [
        "# Funzione per comprimere l'immagine\n",
        "def compress_image(image_array):\n",
        "    size_x, size_y = image_array.shape\n",
        "    new_x = int(size_x / 4)\n",
        "    new_y = int(size_y / 4)\n",
        "    new_image = np.zeros((new_x, new_y))\n",
        "\n",
        "    for x in range(0, size_x, 4):\n",
        "        for y in range(0, size_y, 4):\n",
        "            pixels = []\n",
        "            for dx in range(4):\n",
        "                for dy in range(4):\n",
        "                    pixels.append(image_array[x + dx, y + dy])\n",
        "            pixels.sort(reverse=True)\n",
        "            new_image[int(x / 4), int(y / 4)] = pixels[0]\n",
        "\n",
        "    return new_image"
      ],
      "metadata": {
        "id": "L4CWjIVvEIHK"
      },
      "execution_count": null,
      "outputs": []
    },
    {
      "cell_type": "code",
      "source": [
        "# Comprimere le immagini filtrate\n",
        "compressed_vertical_edges = compress_image(vertical_edges)\n",
        "compressed_horizontal_edges = compress_image(horizontal_edges)\n",
        "\n",
        "# Visualizzare le immagine compresse\n",
        "plt.figure(figsize=(24, 12))\n",
        "\n",
        "# Immagine compressa con filtro verticale\n",
        "plt.subplot(1, 2, 2)\n",
        "plt.imshow(compressed_vertical_edges, cmap='gray')\n",
        "plt.title('Immagine compressa (filtro verticale)', fontsize=20)\n",
        "plt.axis('off')\n",
        "\n",
        "# Immagine compressa con filtro orizzontale\n",
        "plt.subplot(1, 2, 1)\n",
        "plt.imshow(compressed_horizontal_edges, cmap='gray')\n",
        "plt.title('Immagine compressa (filtro orizzontale)', fontsize=20)\n",
        "plt.axis('off')\n",
        "\n",
        "plt.show()"
      ],
      "metadata": {
        "id": "ObQaG5Ax5lAg"
      },
      "execution_count": null,
      "outputs": []
    }
  ],
  "metadata": {
    "colab": {
      "provenance": [],
      "include_colab_link": true
    },
    "kernelspec": {
      "display_name": "Python 3",
      "language": "python",
      "name": "python3"
    },
    "language_info": {
      "codemirror_mode": {
        "name": "ipython",
        "version": 3
      },
      "file_extension": ".py",
      "mimetype": "text/x-python",
      "name": "python",
      "nbconvert_exporter": "python",
      "pygments_lexer": "ipython3",
      "version": "3.10.11"
    }
  },
  "nbformat": 4,
  "nbformat_minor": 0
}