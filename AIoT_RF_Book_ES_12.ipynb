{
  "cells": [
    {
      "cell_type": "markdown",
      "metadata": {
        "id": "view-in-github",
        "colab_type": "text"
      },
      "source": [
        "<a href=\"https://colab.research.google.com/github/bemakerorg/AIoT_Book_RF/blob/main/AIoT_RF_Book_ES_12.ipynb\" target=\"_parent\"><img src=\"https://colab.research.google.com/assets/colab-badge.svg\" alt=\"Open In Colab\"/></a>"
      ]
    },
    {
      "cell_type": "markdown",
      "metadata": {
        "id": "GhZOHbwJOvio"
      },
      "source": [
        "## **Esercizio 12 - Creare un Dataset di Immagini in b/n**\n",
        "\n",
        "Prima di procedere con l’esercitarci con le Reti Convoluzionali, è opportuno imparare a creare il nostro Dataset di Immagini."
      ]
    },
    {
      "cell_type": "markdown",
      "metadata": {
        "id": "tJTHvE8Qe5nM"
      },
      "source": [
        "Creare un dataset di immagini richiede una risposta alle seguenti domande:\n",
        "\n",
        "**1.\tDefinire gli Obiettivi e le Finalità:**\n",
        "\n",
        "Per cosa verrà utilizzato il dataset? Per il training di un modello, per la validation, per i tests?\n",
        "\n",
        "**2.\tTipologia di immagini:**\n",
        "\n",
        "Quali tipi di immagini vuoi includere? (esempio: paesaggi, oggetti, volti, etc.)\n",
        "\n",
        "**3.\tFormato delle immagini:**\n",
        "\n",
        "Normalmente il formato segue quella che è la regola principe del Dataset di immagini, ovvero immagini in bianco e nero e di dimensioni predefinite.\n",
        "\n",
        "**4.\tRaccolta delle Immagini:**\n",
        "\n",
        "Da archivio proprio, da risorse in internet tipo ImageNet, CIFAR-10, MNIST, o altri che potrebbero avere immagini adatte al tuo scopo.\n",
        "Nota: per raccogliere immagini online assicurati di rispettare i diritti d'autore.\n",
        "\n",
        "**5.\tConversione in Bianco e Nero e conversione di risoluzione:**\n",
        "\n",
        "Si può effettuare direttamente in Python con la libreria PIL (Pillow) o OpenCV, questo per automatizzare la conversione.\n",
        "\n",
        "\n",
        "Il Python, sotto questo punto di vista, ci viene in aiuto e ci rende questo processo veramente automatico e semplice."
      ]
    },
    {
      "cell_type": "markdown",
      "source": [
        "Innanzi tutto raccogliamo le nostre immagini e memorizziamole in una directory del nostro PC:\n",
        "\n",
        "C:\\Users\\........\\INPUT_IMAGES\n",
        "\n",
        "Creiamo una directory di Output:\n",
        "\n",
        "C:\\Users\\........\\OUTPUT_IMAGES\n",
        "\n",
        "Iniziamo importando le immagini in Colab per la relativa elaborazione\n"
      ],
      "metadata": {
        "id": "xiZ-LDxW0MEU"
      }
    },
    {
      "cell_type": "code",
      "source": [
        "from google.colab import files\n",
        "uploaded = files.upload()  # Ti permette di caricare i file dal tuo PC"
      ],
      "metadata": {
        "id": "2STsnrABp6xR"
      },
      "execution_count": null,
      "outputs": []
    },
    {
      "cell_type": "markdown",
      "source": [
        "Importiamo la libreria Python necessaria per l'elaborazione delle immagini e quela per gestire i percorsi delle directory."
      ],
      "metadata": {
        "id": "PX2aZUW5yiLJ"
      }
    },
    {
      "cell_type": "code",
      "execution_count": null,
      "metadata": {
        "id": "DZ5OXYiolCUi"
      },
      "outputs": [],
      "source": [
        "from PIL import Image  # Importa la classe Image dalla libreria PIL (Pillow)\n",
        "import os  # Importa il modulo os per la gestione dei percorsi e delle directory"
      ]
    },
    {
      "cell_type": "code",
      "source": [
        "# Creiamo le cartelle di input e output locali su Colab\n",
        "input_folder = '/content/INPUT_IMAGES'\n",
        "output_folder = '/content/OUTPUT_IMAGES'\n",
        "\n",
        "# Creiamo le cartelle se non esistono\n",
        "if not os.path.exists(input_folder):\n",
        "    os.makedirs(input_folder)\n",
        "if not os.path.exists(output_folder):\n",
        "    os.makedirs(output_folder)\n",
        "\n",
        "# Salviamo i file caricati nella cartella di input\n",
        "for filename in uploaded.keys():\n",
        "    with open(os.path.join(input_folder, filename), 'wb') as f:\n",
        "        f.write(uploaded[filename])\n"
      ],
      "metadata": {
        "id": "H4h-BuhghRXg"
      },
      "execution_count": null,
      "outputs": []
    },
    {
      "cell_type": "code",
      "source": [
        "def process_images(input_folder, output_folder):  # Definisce una funzione che elabora le immagini\n",
        "    if not os.path.exists(output_folder):  # Controlla se la cartella di output esiste\n",
        "        os.makedirs(output_folder)  # Se la cartella di output non esiste, la crea\n",
        "    for filename in os.listdir(input_folder):  # Itera su tutti i file nella cartella di input\n",
        "        img_path = os.path.join(input_folder, filename)  # Crea il percorso completo del file\n",
        "        if os.path.isfile(img_path):  # Controlla se il percorso è un file (e non una cartella)\n",
        "            try:  # Inizia un blocco try per gestire eventuali errori\n",
        "                img = Image.open(img_path).convert('L')  # Apre l'immagine e la converte in scala di grigi\n",
        "                img = img.resize((512, 512))  # Ridimensiona l'immagine a 512x512 pixel\n",
        "                img.save(os.path.join(output_folder, filename))  # Salva l'immagine elaborata nella cartella di output\n",
        "            except Exception as e:  # Cattura eventuali eccezioni durante l'elaborazione\n",
        "                print(f\"Error processing {img_path}: {e}\")  # Stampa un messaggio di errore con il percorso del file e l'eccezione"
      ],
      "metadata": {
        "id": "dm4KH9hihXg8"
      },
      "execution_count": null,
      "outputs": []
    },
    {
      "cell_type": "code",
      "source": [
        "process_images(input_folder, output_folder)  # Chiama la funzione process_images con i percorsi delle cartelle di input e output"
      ],
      "metadata": {
        "id": "9MThY0rKh6bv"
      },
      "execution_count": null,
      "outputs": []
    },
    {
      "cell_type": "code",
      "source": [
        "# Comprimiamo le immagini elaborate in un file zip per il download\n",
        "import shutil\n",
        "shutil.make_archive('/content/output_images', 'zip', output_folder)\n",
        "\n",
        "# Scarichiamo il file zip\n",
        "files.download('/content/output_images.zip')"
      ],
      "metadata": {
        "id": "umES-rEDrKVY"
      },
      "execution_count": null,
      "outputs": []
    }
  ],
  "metadata": {
    "colab": {
      "provenance": [],
      "include_colab_link": true
    },
    "kernelspec": {
      "display_name": "Python 3",
      "language": "python",
      "name": "python3"
    },
    "language_info": {
      "codemirror_mode": {
        "name": "ipython",
        "version": 3
      },
      "file_extension": ".py",
      "mimetype": "text/x-python",
      "name": "python",
      "nbconvert_exporter": "python",
      "pygments_lexer": "ipython3",
      "version": "3.10.11"
    }
  },
  "nbformat": 4,
  "nbformat_minor": 0
}