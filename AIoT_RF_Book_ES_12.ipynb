{
  "cells": [
    {
      "cell_type": "markdown",
      "metadata": {
        "id": "view-in-github",
        "colab_type": "text"
      },
      "source": [
        "<a href=\"https://colab.research.google.com/github/bemakerorg/AIoT_Book_RF/blob/main/AIoT_RF_Book_ES_12.ipynb\" target=\"_parent\"><img src=\"https://colab.research.google.com/assets/colab-badge.svg\" alt=\"Open In Colab\"/></a>"
      ]
    },
    {
      "cell_type": "markdown",
      "metadata": {
        "id": "GhZOHbwJOvio"
      },
      "source": [
        "## Esercizio 11 - Creare un Dataset di Immagini in b/n\n",
        "\n",
        "Prima di procedere con l’esercitarci con le Reti Convoluzionali, è opportuno imparare a creare il nostro Dataset di Immagini."
      ]
    },
    {
      "cell_type": "markdown",
      "metadata": {
        "id": "tJTHvE8Qe5nM"
      },
      "source": [
        "Creare un dataset di immagini in bianco e nero di dimensioni predefinite richiede:\n",
        "**1.\tDefinire gli Obiettivi e le Finalità:**\n",
        "\n",
        "Per cosa verrà utilizzato il dataset? Per il training di un modello, per il training e la validation?\n",
        "\n",
        "**2.\tTipologia di immagini:**\n",
        "\n",
        "Quali tipi di immagini vuoi includere? (esempio: paesaggi, oggetti, volti, etc.)\n",
        "\n",
        "**3.\tRaccolta delle Immagini:**\n",
        "\n",
        "Da archivio proprio, da risorse in internet tipo ImageNet, CIFAR-10, MNIST, o altri che potrebbero avere immagini adatte. **Nota**: per raccogliere immagini online (assicurati di rispettare i diritti d'autore).\n",
        "\n",
        "**4.\tConversione in Bianco e Nero e conversione di risoluzione:**\n",
        "\n",
        "Si può effettuare direttamente in Python con la libreria PIL (Pillow) o OpenCV questo per automatizzare la conversione.\n",
        "\n",
        "Il Python, sotto questo punto di vista, ci viene in aiuto e ci rende questo processo veramente automatico e semplice."
      ]
    },
    {
      "cell_type": "markdown",
      "source": [
        "Innanzi tutto raccogliamo le nostre immagini e memorizziamole in una directory del nostro PC:\n",
        "\n",
        "C:\\Users\\........\\INPUT_IMAGES\n",
        "\n",
        "Creiamo una directory di Output:\n",
        "\n",
        "C:\\Users\\........\\OUTPUT_IMAGES\n",
        "\n",
        "Iniziamo importando le immagini in Colab per la relativa elaborazione\n"
      ],
      "metadata": {
        "id": "xiZ-LDxW0MEU"
      }
    },
    {
      "cell_type": "code",
      "source": [
        "from google.colab import files\n",
        "uploaded = files.upload()  # Ti permette di caricare i file dal tuo PC"
      ],
      "metadata": {
        "id": "2STsnrABp6xR"
      },
      "execution_count": null,
      "outputs": []
    },
    {
      "cell_type": "markdown",
      "source": [
        "Importiamo la libreria Python necessaria per l'elaborazione delle immagini e quela per gestire i percorsi delle directory."
      ],
      "metadata": {
        "id": "PX2aZUW5yiLJ"
      }
    },
    {
      "cell_type": "code",
      "execution_count": null,
      "metadata": {
        "id": "DZ5OXYiolCUi"
      },
      "outputs": [],
      "source": [
        "from PIL import Image  # Importa la classe Image dalla libreria PIL (Pillow)\n",
        "import os  # Importa il modulo os per la gestione dei percorsi e delle directory"
      ]
    },
    {
      "cell_type": "code",
      "source": [
        "# Creiamo le cartelle di input e output locali su Colab\n",
        "input_folder = '/content/input_images'\n",
        "output_folder = '/content/output_images'\n",
        "\n",
        "# Creiamo le cartelle se non esistono\n",
        "if not os.path.exists(input_folder):\n",
        "    os.makedirs(input_folder)\n",
        "if not os.path.exists(output_folder):\n",
        "    os.makedirs(output_folder)\n",
        "\n",
        "# Salviamo i file caricati nella cartella di input\n",
        "for filename in uploaded.keys():\n",
        "    with open(os.path.join(input_folder, filename), 'wb') as f:\n",
        "        f.write(uploaded[filename])\n"
      ],
      "metadata": {
        "id": "H4h-BuhghRXg"
      },
      "execution_count": null,
      "outputs": []
    },
    {
      "cell_type": "code",
      "source": [
        "def process_images(input_folder, output_folder):  # Definisce una funzione che elabora le immagini\n",
        "    if not os.path.exists(output_folder):  # Controlla se la cartella di output esiste\n",
        "        os.makedirs(output_folder)  # Se la cartella di output non esiste, la crea\n",
        "    for filename in os.listdir(input_folder):  # Itera su tutti i file nella cartella di input\n",
        "        img_path = os.path.join(input_folder, filename)  # Crea il percorso completo del file\n",
        "        if os.path.isfile(img_path):  # Controlla se il percorso è un file (e non una cartella)\n",
        "            try:  # Inizia un blocco try per gestire eventuali errori\n",
        "                img = Image.open(img_path).convert('L')  # Apre l'immagine e la converte in scala di grigi\n",
        "                img = img.resize((512, 512))  # Ridimensiona l'immagine a 512x512 pixel\n",
        "                img.save(os.path.join(output_folder, filename))  # Salva l'immagine elaborata nella cartella di output\n",
        "            except Exception as e:  # Cattura eventuali eccezioni durante l'elaborazione\n",
        "                print(f\"Error processing {img_path}: {e}\")  # Stampa un messaggio di errore con il percorso del file e l'eccezione"
      ],
      "metadata": {
        "id": "dm4KH9hihXg8"
      },
      "execution_count": 33,
      "outputs": []
    },
    {
      "cell_type": "code",
      "source": [
        "process_images(input_folder, output_folder)  # Chiama la funzione process_images con i percorsi delle cartelle di input e output"
      ],
      "metadata": {
        "id": "9MThY0rKh6bv"
      },
      "execution_count": 34,
      "outputs": []
    },
    {
      "cell_type": "code",
      "source": [
        "# Comprimiamo le immagini elaborate in un file zip per il download\n",
        "import shutil\n",
        "shutil.make_archive('/content/output_images', 'zip', output_folder)\n",
        "\n",
        "# Scarichiamo il file zip\n",
        "files.download('/content/output_images.zip')"
      ],
      "metadata": {
        "colab": {
          "base_uri": "https://localhost:8080/",
          "height": 17
        },
        "id": "umES-rEDrKVY",
        "outputId": "0ad35b9e-05b5-4e04-f9be-ef1ca6748245"
      },
      "execution_count": 35,
      "outputs": [
        {
          "output_type": "display_data",
          "data": {
            "text/plain": [
              "<IPython.core.display.Javascript object>"
            ],
            "application/javascript": [
              "\n",
              "    async function download(id, filename, size) {\n",
              "      if (!google.colab.kernel.accessAllowed) {\n",
              "        return;\n",
              "      }\n",
              "      const div = document.createElement('div');\n",
              "      const label = document.createElement('label');\n",
              "      label.textContent = `Downloading \"${filename}\": `;\n",
              "      div.appendChild(label);\n",
              "      const progress = document.createElement('progress');\n",
              "      progress.max = size;\n",
              "      div.appendChild(progress);\n",
              "      document.body.appendChild(div);\n",
              "\n",
              "      const buffers = [];\n",
              "      let downloaded = 0;\n",
              "\n",
              "      const channel = await google.colab.kernel.comms.open(id);\n",
              "      // Send a message to notify the kernel that we're ready.\n",
              "      channel.send({})\n",
              "\n",
              "      for await (const message of channel.messages) {\n",
              "        // Send a message to notify the kernel that we're ready.\n",
              "        channel.send({})\n",
              "        if (message.buffers) {\n",
              "          for (const buffer of message.buffers) {\n",
              "            buffers.push(buffer);\n",
              "            downloaded += buffer.byteLength;\n",
              "            progress.value = downloaded;\n",
              "          }\n",
              "        }\n",
              "      }\n",
              "      const blob = new Blob(buffers, {type: 'application/binary'});\n",
              "      const a = document.createElement('a');\n",
              "      a.href = window.URL.createObjectURL(blob);\n",
              "      a.download = filename;\n",
              "      div.appendChild(a);\n",
              "      a.click();\n",
              "      div.remove();\n",
              "    }\n",
              "  "
            ]
          },
          "metadata": {}
        },
        {
          "output_type": "display_data",
          "data": {
            "text/plain": [
              "<IPython.core.display.Javascript object>"
            ],
            "application/javascript": [
              "download(\"download_c3b72d9a-6bb4-450f-8e73-abb404a25bc1\", \"output_images.zip\", 293582)"
            ]
          },
          "metadata": {}
        }
      ]
    }
  ],
  "metadata": {
    "colab": {
      "provenance": [],
      "include_colab_link": true
    },
    "kernelspec": {
      "display_name": "Python 3",
      "language": "python",
      "name": "python3"
    },
    "language_info": {
      "codemirror_mode": {
        "name": "ipython",
        "version": 3
      },
      "file_extension": ".py",
      "mimetype": "text/x-python",
      "name": "python",
      "nbconvert_exporter": "python",
      "pygments_lexer": "ipython3",
      "version": "3.10.11"
    }
  },
  "nbformat": 4,
  "nbformat_minor": 0
}