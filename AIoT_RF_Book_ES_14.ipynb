{
  "cells": [
    {
      "cell_type": "markdown",
      "metadata": {
        "id": "view-in-github",
        "colab_type": "text"
      },
      "source": [
        "<a href=\"https://colab.research.google.com/github/bemakerorg/AIoT_Book_RF/blob/main/AIoT_RF_Book_ES_14.ipynb\" target=\"_parent\"><img src=\"https://colab.research.google.com/assets/colab-badge.svg\" alt=\"Open In Colab\"/></a>"
      ]
    },
    {
      "cell_type": "markdown",
      "metadata": {
        "id": "iiVBUpuHXEtw"
      },
      "source": [
        "# Esercizio 14 - Ottimizzare il Modello di tipo CNN per ridurre l'Overfitting\n",
        "**STEP 1 - INSERIMENTO DROPOUT**\n",
        "\n",
        "**STEP 2 - INSERIMENTO REGOLARIZZAZIONE L2**\n",
        "\n",
        "Ulteriori informazioni sul dataset di immagini potete trovarle al link:\n",
        "https://www.cs.toronto.edu/~kriz/cifar.html\n",
        "\n",
        "Il set di dati CIFAR-10 è costituito da 60.000 immagini a colori (su tre canali:RGB) della dimensione 32x32 pxl in 10 classi, con 6.000 immagini per classe. Sono disponibili 50.000 immagini di allenamento e 10.000 immagini di prova."
      ]
    },
    {
      "cell_type": "code",
      "execution_count": 2,
      "metadata": {
        "id": "6OQ_tVTaU3oo"
      },
      "outputs": [],
      "source": [
        "# Importiamo la libreria TensorFlow, un framework open-source per il machine learning.\n",
        "import tensorflow as tf\n",
        "# Imporiamo i moduli datasets, layers, e models dalla sottolibreria keras di TensorFlow.\n",
        "# datasets viene utilizzato per caricare dataset predefiniti, layers per definire i\n",
        "# diversi strati della rete neurale, e models per costruire il modello.\n",
        "from tensorflow.keras import datasets, layers, models\n",
        "# Importa Matplotlib, una libreria per la creazione di grafici, con l'alias plt.\n",
        "import matplotlib.pyplot as plt\n",
        "\n",
        "# Import the regularizers module\n",
        "from tensorflow.keras import regularizers\n",
        "\n",
        "# Carichiamo il dataset CIFAR-10, che è suddiviso in dati di addestramento e di test.\n",
        "# train_images e train_labels contengono rispettivamente le immagini e le etichette per\n",
        "# l'addestramento, mentre test_images e test_labels contengono quelle per il test.\n",
        "(train_images, train_labels), (test_images, test_labels) = datasets.cifar10.load_data()\n",
        "\n",
        "# Normalizza i valori dei pixel delle immagini dividendo per 255.0, scalando così\n",
        "# i valori nell'intervallo [0, 1].\n",
        "train_images = train_images / 255.0\n",
        "test_images = test_images / 255.0"
      ]
    },
    {
      "cell_type": "code",
      "execution_count": 3,
      "metadata": {
        "id": "law2hNzdVA16"
      },
      "outputs": [],
      "source": [
        "# Definizione del Modello CNN\n",
        "# Definiamo il primo layer convoluzionale con 32 filtri, un kernel di dimensione 3x3,\n",
        "# funzione di attivazione ReLU e una forma di input di 32x32x3 (dimensione delle\n",
        "# immagini CIFAR-10 con 3 canali colore).\n",
        "FIRST_LAYER = layers.Conv2D(32, (3, 3), activation='relu', input_shape=(32, 32, 3))\n",
        "\n",
        "# Definiamo un layer di pooling che riduce la dimensione delle feature map usando\n",
        "# un filtro di dimensione 2x2.\n",
        "HIDDEN_LAYER_TYPE_1 = layers.MaxPooling2D((2, 2))\n",
        "\n",
        "# Definiamo un secondo layer convoluzionale con 64 filtri e kernel di dimensione\n",
        "# 3x3, funzione di attivazione ReLU.\n",
        "HIDDEN_LAYER_TYPE_2 = layers.Conv2D(64, (3, 3), activation='relu')\n",
        "\n",
        "# Definiamo un terzo layer di pooling che riduce la dimensione delle feature map\n",
        "# usando un filtro di dimensione 2x2.\n",
        "HIDDEN_LAYER_TYPE_3 = layers.MaxPooling2D((2, 2))\n",
        "\n",
        "# Definiamo un secondo layer convoluzionale con 64 filtri e kernel di dimensione\n",
        "# 3x3, funzione di attivazione ReLU.\n",
        "HIDDEN_LAYER_TYPE_4 = layers.Conv2D(64, (3, 3), activation='relu')\n",
        "\n",
        "# INSERIMENTO REGOLARIZZAZIONE L2\n",
        "HIDDEN_LAYER_TYPE_5 = layers.Dense(64, activation='relu', kernel_regularizer=regularizers.l2(0.01))\n",
        "LAST_LAYER = layers.Dense(10, kernel_regularizer=regularizers.l2(0.01))\n",
        "\n",
        "# Costruiamo il modello sequenziale includendo i layer definiti in precedenza.\n",
        "# Con l'istruzione layers.Flatten() si trasforma le feature map 2D in un vettore 1D\n",
        "# per l'input al layer denso.\n",
        "model = models.Sequential([\n",
        "       FIRST_LAYER,\n",
        "       HIDDEN_LAYER_TYPE_1,\n",
        "       HIDDEN_LAYER_TYPE_2,\n",
        "       HIDDEN_LAYER_TYPE_3,\n",
        "       HIDDEN_LAYER_TYPE_4,\n",
        "       layers.Flatten(),\n",
        "       layers.Dropout(0.3),  # Aggiunto dropout con un tasso del 30%\n",
        "       HIDDEN_LAYER_TYPE_5,\n",
        "       LAST_LAYER,\n",
        "])"
      ]
    },
    {
      "cell_type": "code",
      "execution_count": 4,
      "metadata": {
        "id": "Dxq2JU7dVIEX",
        "colab": {
          "base_uri": "https://localhost:8080/",
          "height": 1000
        },
        "outputId": "e789b565-b524-4297-8008-119b2b0b4645"
      },
      "outputs": [
        {
          "output_type": "stream",
          "name": "stdout",
          "text": [
            "Epoch 1/25\n",
            "1563/1563 [==============================] - 77s 48ms/step - loss: 3.1334 - accuracy: 0.2203 - val_loss: 2.6030 - val_accuracy: 0.3338\n",
            "Epoch 2/25\n",
            "1563/1563 [==============================] - 69s 44ms/step - loss: 2.3607 - accuracy: 0.3519 - val_loss: 2.1678 - val_accuracy: 0.3867\n",
            "Epoch 3/25\n",
            "1563/1563 [==============================] - 66s 42ms/step - loss: 1.9738 - accuracy: 0.4086 - val_loss: 1.8255 - val_accuracy: 0.4279\n",
            "Epoch 4/25\n",
            "1563/1563 [==============================] - 66s 42ms/step - loss: 1.7536 - accuracy: 0.4412 - val_loss: 1.6781 - val_accuracy: 0.4571\n",
            "Epoch 5/25\n",
            "1563/1563 [==============================] - 68s 43ms/step - loss: 1.6272 - accuracy: 0.4660 - val_loss: 1.6030 - val_accuracy: 0.4655\n",
            "Epoch 6/25\n",
            "1563/1563 [==============================] - 66s 42ms/step - loss: 1.5457 - accuracy: 0.4858 - val_loss: 1.5036 - val_accuracy: 0.4925\n",
            "Epoch 7/25\n",
            "1563/1563 [==============================] - 67s 43ms/step - loss: 1.4884 - accuracy: 0.5017 - val_loss: 1.4665 - val_accuracy: 0.5055\n",
            "Epoch 8/25\n",
            "1563/1563 [==============================] - 66s 42ms/step - loss: 1.4410 - accuracy: 0.5202 - val_loss: 1.4116 - val_accuracy: 0.5229\n",
            "Epoch 9/25\n",
            "1563/1563 [==============================] - 65s 42ms/step - loss: 1.4085 - accuracy: 0.5319 - val_loss: 1.4553 - val_accuracy: 0.4954\n",
            "Epoch 10/25\n",
            "1563/1563 [==============================] - 66s 42ms/step - loss: 1.3772 - accuracy: 0.5437 - val_loss: 1.3273 - val_accuracy: 0.5650\n",
            "Epoch 11/25\n",
            "1563/1563 [==============================] - 64s 41ms/step - loss: 1.3527 - accuracy: 0.5533 - val_loss: 1.3220 - val_accuracy: 0.5695\n",
            "Epoch 12/25\n",
            "1563/1563 [==============================] - 69s 44ms/step - loss: 1.3263 - accuracy: 0.5653 - val_loss: 1.2956 - val_accuracy: 0.5754\n",
            "Epoch 13/25\n",
            "1563/1563 [==============================] - 70s 45ms/step - loss: 1.3063 - accuracy: 0.5742 - val_loss: 1.2925 - val_accuracy: 0.5849\n",
            "Epoch 14/25\n",
            "1563/1563 [==============================] - 68s 44ms/step - loss: 1.2860 - accuracy: 0.5845 - val_loss: 1.2992 - val_accuracy: 0.5761\n",
            "Epoch 15/25\n",
            "1563/1563 [==============================] - 66s 42ms/step - loss: 1.2688 - accuracy: 0.5895 - val_loss: 1.2982 - val_accuracy: 0.5708\n",
            "Epoch 16/25\n",
            "1563/1563 [==============================] - 68s 43ms/step - loss: 1.2502 - accuracy: 0.5943 - val_loss: 1.2848 - val_accuracy: 0.5865\n",
            "Epoch 17/25\n",
            "1563/1563 [==============================] - 68s 44ms/step - loss: 1.2313 - accuracy: 0.6038 - val_loss: 1.2312 - val_accuracy: 0.5991\n",
            "Epoch 18/25\n",
            "1563/1563 [==============================] - 66s 42ms/step - loss: 1.2169 - accuracy: 0.6099 - val_loss: 1.2490 - val_accuracy: 0.6021\n",
            "Epoch 19/25\n",
            "1563/1563 [==============================] - 67s 43ms/step - loss: 1.2032 - accuracy: 0.6169 - val_loss: 1.2754 - val_accuracy: 0.5780\n",
            "Epoch 20/25\n",
            "1563/1563 [==============================] - 66s 42ms/step - loss: 1.1874 - accuracy: 0.6220 - val_loss: 1.1778 - val_accuracy: 0.6305\n",
            "Epoch 21/25\n",
            "1563/1563 [==============================] - 66s 42ms/step - loss: 1.1762 - accuracy: 0.6287 - val_loss: 1.2360 - val_accuracy: 0.6046\n",
            "Epoch 22/25\n",
            "1563/1563 [==============================] - 64s 41ms/step - loss: 1.1615 - accuracy: 0.6317 - val_loss: 1.1959 - val_accuracy: 0.6191\n",
            "Epoch 23/25\n",
            "1563/1563 [==============================] - 68s 43ms/step - loss: 1.1492 - accuracy: 0.6383 - val_loss: 1.1672 - val_accuracy: 0.6336\n",
            "Epoch 24/25\n",
            "1563/1563 [==============================] - 68s 44ms/step - loss: 1.1357 - accuracy: 0.6451 - val_loss: 1.1634 - val_accuracy: 0.6390\n",
            "Epoch 25/25\n",
            "1563/1563 [==============================] - 66s 42ms/step - loss: 1.1265 - accuracy: 0.6490 - val_loss: 1.1317 - val_accuracy: 0.6487\n"
          ]
        },
        {
          "output_type": "display_data",
          "data": {
            "text/plain": [
              "<Figure size 640x480 with 1 Axes>"
            ],
            "image/png": "[encoded data removed]"
          },
          "metadata": {}
        }
      ],
      "source": [
        "# Impostiamo la funzione di perdita come SparseCategoricalCrossentropy, adatta per\n",
        "# problemi di classificazione multi-classe con etichette intere. NUM_EPOCHS è\n",
        "# il numero di epoche di addestramento.\n",
        "LOSS = tf.keras.losses.SparseCategoricalCrossentropy(from_logits=True)\n",
        "NUM_EPOCHS = 25 # Puoi provare a modificare questo numero per ottenere una migliore accuratezza\n",
        "\n",
        "# Compila il modello specificando l'ottimizzatore SGD (Stochastic Gradient Descent),\n",
        "# la funzione di perdita e la metrica di accuratezza.\n",
        "model.compile(optimizer='sgd',\n",
        "              loss=LOSS,\n",
        "              metrics=['accuracy'])\n",
        "\n",
        "# La variabile history contiene i dati di addestramento e validazione per ogni epoca.\n",
        "# Il modello viene addestrato secondo il numero di epoche previste utilizzando\n",
        "# i dati di addestramento e convalidandoli su quelli di test.\n",
        "history = model.fit(train_images, train_labels,epochs=NUM_EPOCHS,\n",
        "                    validation_data=(test_images, test_labels))\n",
        "\n",
        "# Plotta l'accuratezza del modello durante l'addestramento e la validazione per\n",
        "# ogni epoca, impostando i limiti degli assi x (epoche) e y (accuratezza).\n",
        "plt.plot(history.history['accuracy'])\n",
        "plt.plot(history.history['val_accuracy'])\n",
        "plt.title('model accuracy')\n",
        "plt.ylabel('accuracy')\n",
        "plt.xlabel('epoch')\n",
        "plt.legend(['train', 'test'], loc='upper left')\n",
        "plt.xlim([0,NUM_EPOCHS])\n",
        "plt.ylim([0.4,1.0])\n",
        "plt.show()"
      ]
    }
  ],
  "metadata": {
    "accelerator": "GPU",
    "colab": {
      "provenance": [],
      "include_colab_link": true
    },
    "kernelspec": {
      "display_name": "Python 3",
      "language": "python",
      "name": "python3"
    },
    "language_info": {
      "codemirror_mode": {
        "name": "ipython",
        "version": 3
      },
      "file_extension": ".py",
      "mimetype": "text/x-python",
      "name": "python",
      "nbconvert_exporter": "python",
      "pygments_lexer": "ipython3",
      "version": "3.6.9"
    }
  },
  "nbformat": 4,
  "nbformat_minor": 0
}