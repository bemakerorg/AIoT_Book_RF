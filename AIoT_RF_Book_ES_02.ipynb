{
  "nbformat": 4,
  "nbformat_minor": 0,
  "metadata": {
    "colab": {
      "provenance": [],
      "authorship_tag": "ABX9TyODH482J8NefpFKIak1X/Uh",
      "include_colab_link": true
    },
    "kernelspec": {
      "name": "python3",
      "display_name": "Python 3"
    },
    "language_info": {
      "name": "python"
    }
  },
  "cells": [
    {
      "cell_type": "markdown",
      "metadata": {
        "id": "view-in-github",
        "colab_type": "text"
      },
      "source": [
        "<a href=\"https://colab.research.google.com/github/bemakerorg/AIoT_Book_RF/blob/main/AIoT_RF_Book_ES_02.ipynb\" target=\"_parent\"><img src=\"https://colab.research.google.com/assets/colab-badge.svg\" alt=\"Open In Colab\"/></a>"
      ]
    },
    {
      "cell_type": "code",
      "execution_count": 63,
      "metadata": {
        "id": "L3kqXgj_v5K3"
      },
      "outputs": [],
      "source": [
        "# Step 1: Importare tutte le librerie necessarie\n",
        "from __future__ import absolute_import, division, print_function, unicode_literals\n",
        "import tensorflow as tf\n",
        "import numpy as np\n",
        "import matplotlib.pyplot as plt"
      ]
    },
    {
      "cell_type": "markdown",
      "source": [
        "Questa sezione importa le librerie necessarie per eseguire il codice. Le librerie importate includono TensorFlow (tf) per la creazione e l'addestramento del modello, NumPy (np) per la gestione di array e operazioni matematiche, e Matplotlib (plt) per il plottaggio dei risultati"
      ],
      "metadata": {
        "id": "ReumVM32wJyj"
      }
    },
    {
      "cell_type": "code",
      "source": [
        "# Step 2: Definire le variabili con i relativi valori inziali\n",
        "INITIAL_W = 20.0 #valore modificabile a piacimento\n",
        "INITIAL_B = 10.0 #valore modificabile a piacimento"
      ],
      "metadata": {
        "id": "hxH11IU0wEVW"
      },
      "execution_count": 64,
      "outputs": []
    },
    {
      "cell_type": "markdown",
      "source": [
        "Qui vengono definiti i valori iniziali per i pesi (INITIAL_W) e il bias (INITIAL_B) del modello. Questi valori possono essere modificati secondo necessità."
      ],
      "metadata": {
        "id": "hWY0GSGRwXbc"
      }
    },
    {
      "cell_type": "code",
      "source": [
        "# Step 3: Definire la funzione di perdita (restituisce il valore di previsione e l'errore quadratico)\n",
        "def loss(predicted_y, target_y):\n",
        "  return tf.reduce_mean(tf.square(predicted_y - target_y))"
      ],
      "metadata": {
        "id": "Ea7bR6zvwyDM"
      },
      "execution_count": 65,
      "outputs": []
    },
    {
      "cell_type": "markdown",
      "source": [
        "In questa parte del codice viene definita la funzione di perdita. Questa funzione calcola l'errore quadratico medio tra le previsioni del modello (predicted_y) e i valori target (target_y). La funzione tf.reduce_mean viene utilizzata per calcolare la media dell'errore quadratico su tutti gli esempi nel set di dati."
      ],
      "metadata": {
        "id": "utfX_jmsw9CP"
      }
    },
    {
      "cell_type": "code",
      "source": [
        "# Step 4: Definire la procedura di apprendimento calcolando il gradiente (restiuisce il valore di perdita)\n",
        "def train(model, inputs, outputs, learning_rate):\n",
        "  with tf.GradientTape() as t:\n",
        "    current_loss = loss(model(inputs), outputs)\n",
        "    # Calcolare il delta valore del gradiente per verificare se sta decrescendo\n",
        "    dw, db = t.gradient(current_loss, [model.w, model.b])\n",
        "    # Immagazzina i valori precedenti e determina i valori successivi da utilizzare nel calcolo del gradiente\n",
        "    model.w.assign_sub(learning_rate * dw)\n",
        "    model.b.assign_sub(learning_rate * db)\n",
        "    return current_loss"
      ],
      "metadata": {
        "id": "hX2o8-kIxAer"
      },
      "execution_count": 66,
      "outputs": []
    },
    {
      "cell_type": "markdown",
      "source": [
        "In questa sezione viene definita la procedura di apprendimento del modello. La funzione train prende in input il modello, i dati di input, i dati di output e il tasso di apprendimento. Utilizza il gradiente della funzione di perdita rispetto ai pesi e al bias del modello per aggiornare i pesi e il bias in modo che la perdita diminuisca. Viene restituita la perdita attuale."
      ],
      "metadata": {
        "id": "fWY3RYQ8xHYv"
      }
    },
    {
      "cell_type": "code",
      "source": [
        "# Step 5: Definire il modello per la regressione del gradiente (restituisce la funzione con i valori w e b ipotizzati)\n",
        "class Model(object):\n",
        "  def __init__(self):\n",
        "    # Introdurre i valori w e b (peso e distorsione) nel ciclo di calcolo\n",
        "    self.w = tf.Variable(INITIAL_W)\n",
        "    self.b = tf.Variable(INITIAL_B)\n",
        "\n",
        "  def __call__(self, x):\n",
        "    return self.w * x + self.b"
      ],
      "metadata": {
        "id": "Um2TnM3YxMa1"
      },
      "execution_count": 67,
      "outputs": []
    },
    {
      "cell_type": "markdown",
      "source": [
        "Qui viene definita la classe Model che rappresenta il modello di regressione lineare. Il metodo __init__ inizializza i pesi e il bias del modello, mentre il metodo __call__ restituisce le previsioni del modello dati i dati di input x."
      ],
      "metadata": {
        "id": "gGAScfcMxYlG"
      }
    },
    {
      "cell_type": "code",
      "source": [
        "# Step 6: Impostare i set di dati di input ed i corrispondenti dati di output noti\n",
        "xs = [-10,  -9,  -8,  -7,  -6,  -5,  -4,  -3,  -2,  -1,   0,   1,   2,   3,   4,   5,   6,   7,   8,   9,  10]  #valore della x\n",
        "ys = [-74, -67, -60, -53, -46, -39, -32, -25, -18, -11,  -4,   3,  10,  17,  24,  31,  38,  45,  52,  59,  66]  #valore correlati della y\n",
        "# Impostare il tasso di apprendimento (utilizzato nella determinazione del delta gradiente)\n",
        "LEARNING_RATE=0.025 #valore modificabile a piacimento"
      ],
      "metadata": {
        "id": "xu7OHO6uxcr-"
      },
      "execution_count": 68,
      "outputs": []
    },
    {
      "cell_type": "markdown",
      "source": [
        "Qui vengono definiti i dati di input xs e i corrispondenti dati di output ys. Questi dati rappresentano i punti nel piano cartesiano che il modello cercherà di adattare tramite regressione lineare.\n",
        "Con LEARNING_RATE viene definito il tasso di apprendimento, che è un parametro che controlla la dimensione dei passi di aggiornamento dei pesi durante l'addestramento del modello."
      ],
      "metadata": {
        "id": "TgiQBluhxre_"
      }
    },
    {
      "cell_type": "code",
      "source": [
        "# Step 7: Creare istanza del modello\n",
        "model = Model()"
      ],
      "metadata": {
        "id": "fxkN-dItxv9I"
      },
      "execution_count": 69,
      "outputs": []
    },
    {
      "cell_type": "markdown",
      "source": [
        "Qui viene creata un'istanza della classe Model, inizializzando i pesi e il bias del modello con i valori iniziali definiti precedentemente"
      ],
      "metadata": {
        "id": "ARGjInfRx0pP"
      }
    },
    {
      "cell_type": "code",
      "source": [
        "# Step 8: Memorizzazione dei dati per il plottaggio successivo\n",
        "list_w, list_b = [ ], [ ]\n",
        "# Step 9: Definire i numeri di cicli di apprendimento\n",
        "epochs = range(150) #valore modificabile a piacimento\n",
        "losses = [ ]\n",
        "for epoch in epochs:\n",
        "  list_w.append(model.w.numpy())\n",
        "  list_b.append(model.b.numpy())\n",
        "  current_loss = train(model, xs, ys, learning_rate=LEARNING_RATE)\n",
        "  losses.append(current_loss)\n",
        "  print('Epoch %2d: w=%1.2f b=%1.2f, loss=%2.5f' %\n",
        "        (epoch, list_w[-1], list_b[-1], current_loss))"
      ],
      "metadata": {
        "id": "f46Wiu8Nx5d6"
      },
      "execution_count": null,
      "outputs": []
    },
    {
      "cell_type": "markdown",
      "source": [
        "Vengono create due liste vuote, list_w e list_b, che verranno utilizzate per memorizzare i valori dei pesi e del bias durante l'addestramento del modello.\n",
        "Viene eseguito il ciclo di addestramento del modello per un numero specificato di epoche. Durante ogni epoca, vengono memorizzati i valori dei pesi e del bias, la perdita attuale viene calcolata utilizzando la funzione train, e infine la perdita viene stampata a schermo"
      ],
      "metadata": {
        "id": "imz3GYUIx-h9"
      }
    },
    {
      "cell_type": "code",
      "source": [
        "# Step 9: Plottaggio risultati e confronto con valori reali\n",
        "TRUE_w = 7.0\n",
        "TRUE_b = -4.0\n",
        "plt.plot(epochs, list_w, 'r', epochs, list_b, 'b')\n",
        "plt.plot([TRUE_w] * len(epochs), 'r--', [TRUE_b] * len(epochs), 'b--')\n",
        "plt.legend(['w', 'b', 'True w', 'True b'])\n",
        "plt.show()"
      ],
      "metadata": {
        "id": "Osc8vxNPyEub"
      },
      "execution_count": null,
      "outputs": []
    },
    {
      "cell_type": "markdown",
      "source": [
        "Infine, vengono plottati i valori dei pesi e del bias rispetto alle epoche di addestramento. Inoltre, vengono plottati i valori reali dei pesi e del bias (se forniti) come linee tratteggiate. Questo aiuta a visualizzare come i pesi e il bias del modello cambiano durante l'addestramento e come si avvicinano ai valori reali desiderati."
      ],
      "metadata": {
        "id": "Lgva_k7xyMZJ"
      }
    }
  ]
}